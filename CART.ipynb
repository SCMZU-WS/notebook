{
 "cells": [
  {
   "cell_type": "markdown",
   "id": "6260d053",
   "metadata": {},
   "source": [
    "# 决策树CART算法demo"
   ]
  },
  {
   "cell_type": "markdown",
   "id": "feb0f6d9",
   "metadata": {},
   "source": [
    "## 1、引入对应的库并查看数据集内容"
   ]
  },
  {
   "cell_type": "code",
   "execution_count": 283,
   "id": "2820b5d5",
   "metadata": {},
   "outputs": [
    {
     "name": "stdout",
     "output_type": "stream",
     "text": [
      "targetName:['setosa' 'versicolor' 'virginica']\n",
      "featureName:['sepal length (cm)', 'sepal width (cm)', 'petal length (cm)', 'petal width (cm)']\n",
      "target:[0 0 0 0 0 0 0 0 0 0 0 0 0 0 0 0 0 0 0 0 0 0 0 0 0 0 0 0 0 0 0 0 0 0 0 0 0\n",
      " 0 0 0 0 0 0 0 0 0 0 0 0 0 1 1 1 1 1 1 1 1 1 1 1 1 1 1 1 1 1 1 1 1 1 1 1 1\n",
      " 1 1 1 1 1 1 1 1 1 1 1 1 1 1 1 1 1 1 1 1 1 1 1 1 1 1 2 2 2 2 2 2 2 2 2 2 2\n",
      " 2 2 2 2 2 2 2 2 2 2 2 2 2 2 2 2 2 2 2 2 2 2 2 2 2 2 2 2 2 2 2 2 2 2 2 2 2\n",
      " 2 2]\n"
     ]
    },
    {
     "data": {
      "text/plain": [
       "array([[4.9, 3. , 1.4, 0.2],\n",
       "       [4.7, 3.2, 1.3, 0.2],\n",
       "       [4.6, 3.1, 1.5, 0.2],\n",
       "       [5. , 3.6, 1.4, 0.2]])"
      ]
     },
     "execution_count": 283,
     "metadata": {},
     "output_type": "execute_result"
    }
   ],
   "source": [
    "import numpy as np\n",
    "from sklearn import datasets\n",
    "# 引入数据集\n",
    "import matplotlib.pyplot as plt\n",
    "from pandas import Series\n",
    "# 引入对应库\n",
    "irisData = datasets.load_iris()\n",
    "irisData\n",
    "print(\"targetName:%s\" % irisData[\"target_names\"])\n",
    "print(\"featureName:%s\" % irisData[\"feature_names\"])\n",
    "print(\"target:%s\" % irisData[\"target\"])\n",
    "dataSet = irisData[\"data\"]\n",
    "dataSet[1:5]"
   ]
  },
  {
   "cell_type": "markdown",
   "id": "0fb4264d",
   "metadata": {},
   "source": [
    "## 2、建立算法模型"
   ]
  },
  {
   "cell_type": "code",
   "execution_count": 631,
   "id": "a094df09",
   "metadata": {},
   "outputs": [],
   "source": [
    "from collections import  Counter\n",
    "import copy\n",
    "# 建立cart算法的二叉树结构\n",
    "class CartBtree:\n",
    "    def __init__(self, data, left=None, right=None):\n",
    "        self.data = data # 记录样本数据的列表\n",
    "        self.var = None # 记录该节点的变量取值\n",
    "        self.left = left # 左子树\n",
    "        self.right = right # 右子树\n",
    "        self.flage = None # 记录该节点代表的样本类型\n",
    "        self.alpha = None\n",
    "        \n",
    "class Cart:\n",
    "    def __init__(self, obj, target, feature, targetName):\n",
    "        self.feature = feature\n",
    "        self.dataSet = obj\n",
    "        self.target = target\n",
    "        self.targetName = targetName\n",
    "        self.listVar = []\n",
    "        for i in feature:\n",
    "            # 整个字典的第一维表示变量类型第二维表示物种类型即标签类型最后一维表示每一个变量可能出现的数值\n",
    "            minNum = (np.min(obj[:,feature.index(i)]) + 0.5) // 1\n",
    "            maxNum = np.ceil(np.max(obj[:,feature.index(i)]))\n",
    "            tmpArray = np.arange(minNum,maxNum,0.5)\n",
    "            for j in tmpArray:\n",
    "                self.listVar.append([feature.index(i), j])\n",
    "                # 整个列表中每一个元素是一个元组，每一个元组代表一个变量，\n",
    "                # 元组中第一个元素表示变量类型，第二个元素表示该类型对应的取值，可以看成是一个范围\n",
    "        self.listVar = np.array(self.listVar)\n",
    "\n",
    "    def funShuffle(self):\n",
    "        index = np.random.choice(np.arange(self.dataSet.shape[0]), size = self.dataSet.shape[0], replace = False)\n",
    "        # 产生一个随机不重复的序列\n",
    "        self.listTrain = []\n",
    "        self.trainTarget = []\n",
    "        self.listTest = []\n",
    "        self.testTarget = []\n",
    "        # 同之前的两个算法相比这里新初始化了两个列表\n",
    "        # 之前把变量和状态写在一个列表中做向量处理的时候比较乱\n",
    "        for i in range(self.dataSet.shape[0]):\n",
    "            if (i < 0.8 * self.dataSet.shape[0]):\n",
    "                self.listTrain.append(self.dataSet[index[i]])\n",
    "                self.trainTarget.append(self.target[index[i]])\n",
    "            else:\n",
    "                self.listTest.append(self.dataSet[index[i]])\n",
    "                self.testTarget.append(self.target[index[i]])\n",
    "        # 返回标准化后的矩阵\n",
    "        return (np.floor(np.mat(self.listTrain)) + np.around(np.mat(self.listTrain) - np.floor(np.mat(self.listTrain))) / 2)\n",
    "    def funBtree(self, data, target, var):\n",
    "        '''\n",
    "        递归的第一个传入的var变量是实例化后的listVar,类型为np.array\n",
    "        相似的，data、target为实例化后的listTrain和trainTarget\n",
    "        '''\n",
    "        if (len(data)==0 or not(var.shape[0])):\n",
    "            # 如果变量取值集合为空或所有状态已空则返回None\n",
    "            return None\n",
    "        listGini = []\n",
    "        for i in set(var[:,0]):\n",
    "            # 遍历变量内容如果同一类变量取值只有两种则可以删去一种，因为这两个的基尼指数必然相等\n",
    "            if var[var[:,0]==i].shape[0]==2:\n",
    "                var = np.delete(var, np.where(var[:,0]==i)[0][1], 0)\n",
    "        for i in var:\n",
    "            # 计算所有变量的基尼指数\n",
    "            index = data[:,int(i[0])]==i[1]\n",
    "            index2 = data[:,int(i[0])]!=i[1]\n",
    "            count = data[index].shape[0] / data.shape[0]\n",
    "            sum1, sum2 = 0, 0\n",
    "            for j in range(3):\n",
    "                if count!=0:\n",
    "                    sum1 += pow(len(target[index][target[index]==j])/data[index].shape[0],2)\n",
    "                if count!=1:\n",
    "                    sum2 += pow(len(target[index2][target[index2]==j])/data[index2].shape[0],2)\n",
    "            Gini1 = count * (1 - sum1)\n",
    "            Gini2 = (1 - count) * (1 - sum2)\n",
    "            listGini.append(Gini1+Gini2)\n",
    "        tmpTree = CartBtree((data, target))\n",
    "        tmpTree.flage = max(Counter(target),key=Counter(target).get)\n",
    "        if (len(set(target))==1):\n",
    "            tmpTree.left = None\n",
    "            tmpTree.right = None\n",
    "            return tmpTree\n",
    "        tmpTree.var = var[listGini.index(min(listGini))]\n",
    "        dataYes = data[data[:,int(tmpTree.var[0])]==tmpTree.var[1]]\n",
    "        targetYes = target[data[:,int(tmpTree.var[0])]==tmpTree.var[1]]\n",
    "        dataNo = data[data[:,int(tmpTree.var[0])]!=tmpTree.var[1]]\n",
    "        targetNo = target[data[:,int(tmpTree.var[0])]!=tmpTree.var[1]]\n",
    "        tmpTree.left = self.funBtree(dataYes,targetYes,np.delete(var,listGini.index(min(listGini)),0))\n",
    "        tmpTree.right = self.funBtree(dataNo,targetNo,np.delete(var,listGini.index(min(listGini)),0))\n",
    "        return tmpTree\n",
    "    def funTarget(self, tree, item):\n",
    "        tmp = (np.floor(np.array(item)) + np.around(np.array(item) - np.floor(np.array(item))) / 2)\n",
    "        if type(tree.left)==type(None):\n",
    "            return tree.flage\n",
    "        if tmp[int(tree.var[0])]==tree.var[1]:\n",
    "            return self.funTarget(tree.left, item)\n",
    "        else:\n",
    "            return self.funTarget(tree.right, item)\n",
    "    def funTest(self, tree):\n",
    "        errorCount = 0\n",
    "        for i in range(len(self.listTest)):\n",
    "            target = self.funTarget(tree, self.listTest[i])\n",
    "            if int(target) != int(self.testTarget[i]):\n",
    "                errorCount += 1\n",
    "        errorRate = (errorCount/len(self.testTarget))*100\n",
    "        print(\"错误率为：%.2f\" % errorRate, end=\"%\\n\")\n",
    "        return errorRate\n",
    "    def funCount(self, count, tree):\n",
    "        # 计算叶节点的个数的返回值需减一\n",
    "        if (type(tree)==type(None)):\n",
    "            return 0\n",
    "        count1 = self.funCount(count, tree.left)\n",
    "        count2 = self.funCount(count, tree.right)\n",
    "        return count1+count2+1\n",
    "    def _trim(tree, minAlpha):\n",
    "        if (type(tree)==type(None)):\n",
    "            return\n",
    "        if tree.alpha==minAlpha:\n",
    "            tree.left=None\n",
    "            tree.right=None\n",
    "            return\n",
    "        Cart._trim(tree.left, minAlpha)\n",
    "        Cart._trim(tree.right, minAlpha)\n",
    "        return\n",
    "    def computeAlpha(self, tree, alpha=float('inf')):\n",
    "        if (type(tree)==type(None)):\n",
    "            return alpha\n",
    "        if (type(tree.var)==type(None)):\n",
    "            tree.alpha = float('inf')\n",
    "            return alpha\n",
    "        Ct = 1 - sum([pow(list(tree.data[1]).count(0)/len(tree.data[1]),2),pow(list(tree.data[1]).count(1)/len(tree.data[1]),2),pow(list(tree.data[1]).count(2)/len(tree.data[1]),2)])\n",
    "        countT = self.funCount(0, tree)\n",
    "        index = tree.data[0][:,int(tree.var[0])]==tree.var[1]\n",
    "        index2 = tree.data[0][:,int(tree.var[0])]!=tree.var[1]\n",
    "        count = tree.data[0][index].shape[0] / tree.data[0].shape[0]\n",
    "        sum1, sum2 = 0, 0\n",
    "        for j in range(3):\n",
    "            if count!=0:\n",
    "                sum1 += pow(len(tree.data[1][index][tree.data[1][index]==j])/tree.data[0][index].shape[0],2)\n",
    "            if count!=1:\n",
    "                sum2 += pow(len(tree.data[1][index2][tree.data[1][index2]==j])/tree.data[0][index2].shape[0],2)\n",
    "        Gini1 = count * (1 - sum1)\n",
    "        Gini2 = (1 - count) * (1 - sum2)\n",
    "        CT = Gini1 + Gini2\n",
    "        if countT==1:\n",
    "            newAlpha = float('inf')\n",
    "        else:\n",
    "            newAlpha = (CT-Ct)/(countT-1)\n",
    "        tree.alpha = newAlpha\n",
    "        nextAlpha = self.computeAlpha(tree.left, min(alpha, newAlpha))\n",
    "        return self.computeAlpha(tree.right, nextAlpha)\n",
    "    def funTrim(self, tree, num=5):\n",
    "        # 剪枝函数，这里只做了简单的训练集处理，真实情况需要做交叉验证\n",
    "        # num默认只剪枝五次，获取的子树是互相嵌套的\n",
    "        listTree = []\n",
    "        tmpTree = copy.deepcopy(tree)\n",
    "        for i in range(num):\n",
    "            newTree = copy.deepcopy(tmpTree)\n",
    "            minAlpha = self.computeAlpha(newTree)\n",
    "            Cart._trim(newTree, minAlpha)\n",
    "            listTree.append(newTree)\n",
    "            tmpTree = newTree\n",
    "        return listTree\n",
    "        "
   ]
  },
  {
   "cell_type": "markdown",
   "id": "8467a3d2",
   "metadata": {},
   "source": [
    "## 3、实例化cart模型"
   ]
  },
  {
   "cell_type": "code",
   "execution_count": 654,
   "id": "ec0ca1a2",
   "metadata": {},
   "outputs": [
    {
     "name": "stdout",
     "output_type": "stream",
     "text": [
      "错误率为：3.33%\n"
     ]
    }
   ],
   "source": [
    "tmp2 = Cart(dataSet, irisData[\"target\"], irisData[\"feature_names\"], irisData[\"target_names\"])\n",
    "# 实例化模型并传参\n",
    "newData = tmp2.funShuffle()\n",
    "cartTree = tmp2.funBtree(np.array(newData), np.array(tmp2.trainTarget), tmp2.listVar)\n",
    "errorBefo = tmp2.funTest(cartTree) # 剪枝前的错误率\n",
    "# 可以看出实例化的模型错误率很不稳定，节点过多，限制条件过多以至于造成一定程度的过拟合，需要进一步剪枝"
   ]
  },
  {
   "cell_type": "markdown",
   "id": "cf550de7",
   "metadata": {},
   "source": [
    "## 4、查看模型的输出结果："
   ]
  },
  {
   "cell_type": "code",
   "execution_count": 655,
   "id": "5caa561f",
   "metadata": {},
   "outputs": [
    {
     "name": "stdout",
     "output_type": "stream",
     "text": [
      "0\n"
     ]
    }
   ],
   "source": [
    "a = np.array([4.9, 3. , 1.4, 0.2])\n",
    "print(tmp2.funTarget(cartTree, a))"
   ]
  },
  {
   "cell_type": "markdown",
   "id": "7a1ca2b8",
   "metadata": {},
   "source": [
    "## 5、比对剪枝后的错误率(这里使用没有交叉验证)"
   ]
  },
  {
   "cell_type": "code",
   "execution_count": 656,
   "id": "c578d540",
   "metadata": {},
   "outputs": [
    {
     "name": "stdout",
     "output_type": "stream",
     "text": [
      "错误率为：3.33%\n",
      "错误率为：3.33%\n",
      "错误率为：6.67%\n",
      "错误率为：0.00%\n",
      "错误率为：0.00%\n"
     ]
    }
   ],
   "source": [
    "listTree = tmp2.funTrim(cartTree)\n",
    "listError = []\n",
    "for i in listTree:\n",
    "    listError.append(tmp2.funTest(i))"
   ]
  },
  {
   "cell_type": "code",
   "execution_count": 657,
   "id": "d33398c1",
   "metadata": {},
   "outputs": [
    {
     "name": "stdout",
     "output_type": "stream",
     "text": [
      "65\n",
      "63\n",
      "40\n",
      "38\n",
      "36\n"
     ]
    }
   ],
   "source": [
    "# 剪枝后的节点个数\n",
    "for i in listTree:\n",
    "    print(tmp2.funCount(0, i))"
   ]
  }
 ],
 "metadata": {
  "kernelspec": {
   "display_name": "Python 3",
   "language": "python",
   "name": "python3"
  },
  "language_info": {
   "codemirror_mode": {
    "name": "ipython",
    "version": 3
   },
   "file_extension": ".py",
   "mimetype": "text/x-python",
   "name": "python",
   "nbconvert_exporter": "python",
   "pygments_lexer": "ipython3",
   "version": "3.8.5"
  }
 },
 "nbformat": 4,
 "nbformat_minor": 5
}
