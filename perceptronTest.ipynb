{
 "cells": [
  {
   "cell_type": "markdown",
   "id": "bb7e2bbe",
   "metadata": {},
   "source": [
    "# 感知机demo"
   ]
  },
  {
   "cell_type": "markdown",
   "id": "16819e67",
   "metadata": {},
   "source": [
    "## 1、引入对应的库并查看数据集内容"
   ]
  },
  {
   "cell_type": "code",
   "execution_count": 1,
   "id": "56dd93fa",
   "metadata": {},
   "outputs": [],
   "source": [
    "import numpy as np\n",
    "from sklearn import datasets\n",
    "# 鸢尾花数据集\n",
    "import matplotlib.pyplot as plt\n",
    "# 引入对应库"
   ]
  },
  {
   "cell_type": "code",
   "execution_count": 3,
   "id": "debf374f",
   "metadata": {},
   "outputs": [
    {
     "name": "stdout",
     "output_type": "stream",
     "text": [
      "targetName:['setosa' 'versicolor' 'virginica']\n",
      "featureName:['sepal length (cm)', 'sepal width (cm)', 'petal length (cm)', 'petal width (cm)']\n",
      "target:[0 0 0 0 0 0 0 0 0 0 0 0 0 0 0 0 0 0 0 0 0 0 0 0 0 0 0 0 0 0 0 0 0 0 0 0 0\n",
      " 0 0 0 0 0 0 0 0 0 0 0 0 0 1 1 1 1 1 1 1 1 1 1 1 1 1 1 1 1 1 1 1 1 1 1 1 1\n",
      " 1 1 1 1 1 1 1 1 1 1 1 1 1 1 1 1 1 1 1 1 1 1 1 1 1 1 2 2 2 2 2 2 2 2 2 2 2\n",
      " 2 2 2 2 2 2 2 2 2 2 2 2 2 2 2 2 2 2 2 2 2 2 2 2 2 2 2 2 2 2 2 2 2 2 2 2 2\n",
      " 2 2]\n"
     ]
    },
    {
     "data": {
      "text/plain": [
       "array([[4.9, 3. , 1.4, 0.2],\n",
       "       [4.7, 3.2, 1.3, 0.2],\n",
       "       [4.6, 3.1, 1.5, 0.2],\n",
       "       [5. , 3.6, 1.4, 0.2]])"
      ]
     },
     "execution_count": 3,
     "metadata": {},
     "output_type": "execute_result"
    }
   ],
   "source": [
    "irisData = datasets.load_iris()\n",
    "irisData\n",
    "print(\"targetName:%s\" % irisData[\"target_names\"])\n",
    "print(\"featureName:%s\" % irisData[\"feature_names\"])\n",
    "print(\"target:%s\" % irisData[\"target\"])\n",
    "dataSet = irisData[\"data\"]\n",
    "dataSet[1:5]"
   ]
  },
  {
   "cell_type": "code",
   "execution_count": 4,
   "id": "342f3d29",
   "metadata": {},
   "outputs": [
    {
     "data": {
      "image/png": "[encoded data removed]",
      "text/plain": [
       "<Figure size 432x288 with 1 Axes>"
      ]
     },
     "metadata": {
      "needs_background": "light"
     },
     "output_type": "display_data"
    }
   ],
   "source": [
    "dataSetosa = dataSet[irisData[\"target\"]==0]\n",
    "dataVersicolor = dataSet[irisData[\"target\"]==1]\n",
    "# 根据target标签索引两个品种数据\n",
    "plt.scatter(dataSetosa[:,0],dataSetosa[:,1],color='red',marker='o',label='Setosa')\n",
    "plt.scatter(dataVersicolor[:,0],dataVersicolor[:,1],color='blue',marker='o',label='Versicolor')\n",
    "plt.xlabel('sepal length (cm)')\n",
    "plt.ylabel('sepal width (cm)')\n",
    "plt.legend()\n",
    "# 仅选取两个维度绘制二维平面图\n",
    "plt.show()"
   ]
  },
  {
   "cell_type": "markdown",
   "id": "04c80ffd",
   "metadata": {},
   "source": [
    "## 2、建立感知机模型"
   ]
  },
  {
   "cell_type": "code",
   "execution_count": 112,
   "id": "61c60d6e",
   "metadata": {},
   "outputs": [],
   "source": [
    "class Perceptron:\n",
    "    '''\n",
    "    感知机类\n",
    "    实例化需先初始化变量数，传参num，范围为2：4,默认为2\n",
    "    t为训练的步长默认为0.02\n",
    "    '''\n",
    "    def __init__(self, num=2, t=0.02):\n",
    "        self.w = np.zeros(num).reshape(num,1)\n",
    "        self.b = 0\n",
    "        self.t = t\n",
    "    def funShuffle(self, obj, target):\n",
    "        index = np.random.choice(np.arange(obj.shape[0]), size = obj.shape[0], replace = False)\n",
    "        # 产生一个随机不重复的序列\n",
    "        self.listTrain = []\n",
    "        self.listTest = []\n",
    "        for i in range(obj.shape[0]):\n",
    "            diff = -1 if target[index[i]] else 1\n",
    "            if (i < 0.8 * obj.shape[0]):\n",
    "                self.listTrain.append([obj[index[i]], diff])\n",
    "            else:\n",
    "                self.listTest.append([obj[index[i]],diff])\n",
    "    def funTrain(self, num=2000):\n",
    "        '''\n",
    "        传参num为迭代次数\n",
    "        obj为传入的数据集行向量为样本\n",
    "        '''\n",
    "        for i in range(num):\n",
    "            count = 0\n",
    "            # 统计失配的个数\n",
    "            flage = True\n",
    "            # 是否失配的标记\n",
    "            for j in self.listTrain:\n",
    "                count += 1\n",
    "                r = np.matmul(j[0], self.w) + self.b\n",
    "                if (j[1] * r[0] <= 0):\n",
    "                    flage = False\n",
    "                    self.w += (self.t * j[1]) * j[0].reshape([2,1])\n",
    "                    self.b += self.t * j[1]\n",
    "                    break\n",
    "            if flage:\n",
    "                print(\"完成训练！\")\n",
    "                return True\n",
    "            if ((i+1) % 50 == 0):\n",
    "                print(\"loss:%.5f\" % (1/count))\n",
    "        print(\"有限迭代次数下超平面训练失败,该数据或线性不可分!\")\n",
    "        return False\n",
    "    def funTest(self):\n",
    "        count = 0 # 初始化识别错误的个数\n",
    "        for i in self.listTest:\n",
    "            r = np.matmul(i[0], self.w) + self.b\n",
    "            if (i[1] * r[0] <= 0):\n",
    "                count += 1\n",
    "        return count/len(self.listTest)\n",
    "    def funOut(self, obj):\n",
    "        '''\n",
    "        obj为符合实例对象变量个数的行向量\n",
    "        '''\n",
    "        r = np.matmul(obj, self.w) + self.b\n",
    "        return \"Setosa\" if r > 0 else \"Versicolor\""
   ]
  },
  {
   "cell_type": "markdown",
   "id": "c9b570db",
   "metadata": {},
   "source": [
    "## 3、实例化对象并训练"
   ]
  },
  {
   "cell_type": "code",
   "execution_count": 114,
   "id": "853a901e",
   "metadata": {},
   "outputs": [
    {
     "name": "stdout",
     "output_type": "stream",
     "text": [
      "loss:0.50000\n",
      "loss:0.50000\n",
      "loss:0.16667\n",
      "loss:0.03846\n",
      "loss:1.00000\n",
      "loss:0.16667\n",
      "loss:1.00000\n",
      "loss:0.03846\n",
      "loss:0.03846\n",
      "loss:0.33333\n",
      "loss:0.01515\n",
      "loss:0.03846\n",
      "loss:0.33333\n",
      "loss:0.03846\n",
      "loss:0.16667\n",
      "loss:0.01515\n",
      "loss:0.33333\n",
      "loss:0.33333\n",
      "loss:0.33333\n",
      "完成训练！\n",
      "loss:1.00000\n",
      "完成训练！\n"
     ]
    }
   ],
   "source": [
    "tmp1 = Perceptron()\n",
    "# print(tmp1.w)\n",
    "tmp1.funShuffle(dataSet[0:100][:,0:2], irisData[\"target\"][0:100])\n",
    "# 只取了模型的前100个，属于两种不同的类，\n",
    "# 取数据集的前两列表示只取两个变量，实际可以取两个以上变量\n",
    "# 这里用两个变量只为了方便可视化\n",
    "result = tmp1.funTrain()\n",
    "model2 = Perceptron(t=0.04)\n",
    "# 分别初始化两个模型，设定步长为0.04\n",
    "model2.funShuffle(dataSet[0:100][:,0:2], irisData[\"target\"][0:100])\n",
    "result2 = model2.funTrain()"
   ]
  },
  {
   "cell_type": "markdown",
   "id": "f1b38cfe",
   "metadata": {},
   "source": [
    "## 4、二维超平面的可视化"
   ]
  },
  {
   "cell_type": "code",
   "execution_count": 143,
   "id": "60d06cfd",
   "metadata": {},
   "outputs": [
    {
     "name": "stdout",
     "output_type": "stream",
     "text": [
      "tmp1模型的w1、w2、b分别为：[-1.01] [1.274] 1.620000000000001\n",
      "model2模型的w1、w2、b分别为：[-0.464] [0.776] 0.04\n"
     ]
    },
    {
     "data": {
      "image/png": "[encoded data removed]",
      "text/plain": [
       "<Figure size 432x288 with 1 Axes>"
      ]
     },
     "metadata": {
      "needs_background": "light"
     },
     "output_type": "display_data"
    }
   ],
   "source": [
    "print(\"tmp1模型的w1、w2、b分别为：\", end=\"\")\n",
    "print(tmp1.w[0], tmp1.w[1], tmp1.b)\n",
    "print(\"model2模型的w1、w2、b分别为：\", end=\"\")\n",
    "print(model2.w[0], model2.w[1], model2.b)\n",
    "x = np.linspace(4, 7, 50)\n",
    "y2 = (tmp1.w[0]*x + tmp1.b) / (-tmp1.w[1])\n",
    "y3 = (model2.w[0]*x + model2.b) / (-model2.w[1])\n",
    "plt.scatter(dataSetosa[:,0],dataSetosa[:,1],color='red',marker='o',label='Setosa')\n",
    "plt.scatter(dataVersicolor[:,0],dataVersicolor[:,1],color='blue',marker='o',label='Versicolor')\n",
    "plt.plot(x, y2, color=\"teal\", label=\"tmp1\")\n",
    "plt.plot(x, y3, color=\"orangered\", label=\"model2\")\n",
    "plt.xlabel('sepal length (cm)')\n",
    "plt.ylabel('sepal width (cm)')\n",
    "plt.legend()\n",
    "# 仅选取两个维度绘制二维平面图\n",
    "plt.show()"
   ]
  },
  {
   "cell_type": "markdown",
   "id": "b78b65a9",
   "metadata": {},
   "source": [
    "## 5、查看模型评估结果："
   ]
  },
  {
   "cell_type": "code",
   "execution_count": 117,
   "id": "85e9470d",
   "metadata": {},
   "outputs": [
    {
     "name": "stdout",
     "output_type": "stream",
     "text": [
      "tmp1模型测试集错误率0.0000%\n",
      "model2模型测试集错误率5.0000%"
     ]
    }
   ],
   "source": [
    "errorResult = tmp1.funTest()\n",
    "errorResult2 = model2.funTest()\n",
    "print(\"tmp1模型测试集错误率%.4f\" % (errorResult*100), end=\"%\\n\")\n",
    "print(\"model2模型测试集错误率%.4f\" % (errorResult2*100), end=\"%\")"
   ]
  },
  {
   "cell_type": "markdown",
   "id": "9e0df471",
   "metadata": {},
   "source": [
    "## 6、模型输出测试："
   ]
  },
  {
   "cell_type": "code",
   "execution_count": 131,
   "id": "f221248e",
   "metadata": {},
   "outputs": [
    {
     "name": "stdout",
     "output_type": "stream",
     "text": [
      "模型一[[5.62909218 2.9706477 ]]数据识别为Versicolor，[[6.95089443 4.73850476]]数据为Setosa\n"
     ]
    }
   ],
   "source": [
    "newData = np.random.uniform(2, 7, (1, 2))\n",
    "newData2 = np.random.uniform(2, 7, (1, 2))\n",
    "# print(newData, newData2)\n",
    "output1 = tmp1.funOut(newData)\n",
    "output2 = tmp1.funOut(newData2)\n",
    "print(\"模型一%s数据识别为%s，%s数据为%s\" %(newData, output1,newData2, output2))"
   ]
  }
 ],
 "metadata": {
  "kernelspec": {
   "display_name": "Python 3",
   "language": "python",
   "name": "python3"
  },
  "language_info": {
   "codemirror_mode": {
    "name": "ipython",
    "version": 3
   },
   "file_extension": ".py",
   "mimetype": "text/x-python",
   "name": "python",
   "nbconvert_exporter": "python",
   "pygments_lexer": "ipython3",
   "version": "3.8.5"
  }
 },
 "nbformat": 4,
 "nbformat_minor": 5
}
