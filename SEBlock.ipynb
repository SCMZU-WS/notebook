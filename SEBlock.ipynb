{
 "cells": [
  {
   "cell_type": "markdown",
   "id": "32eb5a5e",
   "metadata": {},
   "source": [
    "## 手写SEBlock模块"
   ]
  },
  {
   "cell_type": "code",
   "execution_count": 1,
   "id": "dcab04e2",
   "metadata": {},
   "outputs": [],
   "source": [
    "import torch\n",
    "import numpy as np\n",
    "from torch import nn"
   ]
  },
  {
   "cell_type": "code",
   "execution_count": 64,
   "id": "51865693",
   "metadata": {},
   "outputs": [
    {
     "data": {
      "text/plain": [
       "tensor([[[[1.9021, 1.9021, 3.1702],\n",
       "          [5.7064, 2.5362, 0.0000],\n",
       "          [2.5362, 1.9021, 3.8043]],\n",
       "\n",
       "         [[0.6861, 0.1715, 0.4288],\n",
       "          [0.3430, 0.4288, 0.2573],\n",
       "          [0.5146, 0.5146, 0.4288]],\n",
       "\n",
       "         [[0.1812, 0.1812, 0.3624],\n",
       "          [0.3624, 0.3624, 1.4495],\n",
       "          [1.0871, 1.6307, 1.0871]]],\n",
       "\n",
       "\n",
       "        [[[5.4363, 1.2081, 5.4363],\n",
       "          [1.8121, 0.0000, 1.2081],\n",
       "          [1.2081, 1.2081, 1.2081]],\n",
       "\n",
       "         [[0.4351, 0.2175, 0.5439],\n",
       "          [0.3263, 0.2175, 0.5439],\n",
       "          [0.3263, 0.3263, 0.5439]],\n",
       "\n",
       "         [[1.7873, 1.5639, 2.0107],\n",
       "          [0.2234, 0.8936, 0.4468],\n",
       "          [0.4468, 0.0000, 0.6702]]]], grad_fn=<MulBackward0>)"
      ]
     },
     "execution_count": 64,
     "metadata": {},
     "output_type": "execute_result"
    }
   ],
   "source": [
    "class SEBlock(nn.Module):\n",
    "    '''\n",
    "    手写seblock\n",
    "    该模块目前只支持4个维度，B,C,H,W\n",
    "    初始化参数：\n",
    "    channel：输入层的通道数；\n",
    "    scal：缩放因子，默认为0.8，在两个mlp之间使用，减少参数防止过拟合，提高泛化能力\n",
    "    '''\n",
    "    def __init__(self, channel, ratio=16):\n",
    "        super(SEBlock, self).__init__()\n",
    "        self.scal_channel = int(channel // ratio)\n",
    "        self.block = nn.Sequential(\n",
    "            nn.AdaptiveAvgPool2d(output_size=(1,1)),\n",
    "            nn.Flatten(),\n",
    "            # 经过全局池化后要将最后两个维度展平，因此加了一个展平层\n",
    "            nn.Linear(in_features=channel, out_features=self.scal_channel, bias=True),\n",
    "            nn.ReLU(),\n",
    "            nn.Linear(in_features=self.scal_channel, out_features=channel, bias=True),\n",
    "            nn.Sigmoid()\n",
    "        )\n",
    "    def forward(self, x):\n",
    "        # 扩展两个维度后进行scale操作，根据广播机制乘以原来通道内的所有元素\n",
    "        return x * self.block(x).unsqueeze(dim=-1).unsqueeze(dim=-1)\n",
    "\n",
    "# 测试seblock输出，随机生成有两个batch，三个通道，尺寸为3*3的矩阵\n",
    "a = torch.randint(0,10,size=(2,3,3,3)).float()\n",
    "seblock = SEBlock(3, ratio=1.5)\n",
    "seblock(a)"
   ]
  }
 ],
 "metadata": {
  "kernelspec": {
   "display_name": "Python [conda env:torch-gpu]",
   "language": "python",
   "name": "conda-env-torch-gpu-py"
  },
  "language_info": {
   "codemirror_mode": {
    "name": "ipython",
    "version": 3
   },
   "file_extension": ".py",
   "mimetype": "text/x-python",
   "name": "python",
   "nbconvert_exporter": "python",
   "pygments_lexer": "ipython3",
   "version": "3.7.7"
  }
 },
 "nbformat": 4,
 "nbformat_minor": 5
}
