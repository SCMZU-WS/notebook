{
 "cells": [
  {
   "cell_type": "markdown",
   "id": "d6eebf7a",
   "metadata": {},
   "source": [
    "## 关于BCEloss与CEloss的探究\n",
    "对于BCEloss多用于二分类问题，但是很多多标签问题也使用到了BCEloss，一个样本有可能属于多个标签，这样每一个标签都是一个二分类，是一个伯努利分布并非多项式分布（softmax，CEloss）。注意二分类问题BCEloss结果应等同于CEloss但是两者代表的含义却不同（真正应用中结果也不可能相同，BCEloss经过linear层只需要输出一个通道，而如果使用CEloss的话需要将最后的输出应为两个通道，否则经过softmax输出都为1，通常二分类使用BCEloss）。但在最近的一篇对ResNet的优化论文中提到了用BCEloss代替CEloss做多分类问题（并非多标签），应该对标签做处理，若分n类则linear层应输出n个通道，标签也需要扩展到n维原先的标签值变成扩展后的正标记的下标。"
   ]
  },
  {
   "cell_type": "code",
   "execution_count": 1,
   "id": "7c30e53e",
   "metadata": {},
   "outputs": [],
   "source": [
    "import torch\n",
    "from torch import nn"
   ]
  },
  {
   "cell_type": "markdown",
   "id": "da61d9fc",
   "metadata": {},
   "source": [
    "### 二分类示例：\n",
    "$$\n",
    "BCEloss(x_i,y_i) = -mean(y_ilog(x_i)+(1-y_i)log(1-x_i))\n",
    "$$"
   ]
  },
  {
   "cell_type": "code",
   "execution_count": 54,
   "id": "64d02f8f",
   "metadata": {},
   "outputs": [
    {
     "data": {
      "text/plain": [
       "(tensor([[-0.0564],\n",
       "         [ 1.1831],\n",
       "         [-0.2914],\n",
       "         [ 0.7953],\n",
       "         [-1.8517]]),\n",
       " tensor([[0.],\n",
       "         [0.],\n",
       "         [1.],\n",
       "         [1.],\n",
       "         [0.]]))"
      ]
     },
     "execution_count": 54,
     "metadata": {},
     "output_type": "execute_result"
    }
   ],
   "source": [
    "# 随机生成五个标准正态分布的矩阵\n",
    "test = torch.randn((5,1))\n",
    "table = torch.randint(0,2,(5,1)).float()\n",
    "test, table"
   ]
  },
  {
   "cell_type": "code",
   "execution_count": 55,
   "id": "f184687e",
   "metadata": {},
   "outputs": [
    {
     "data": {
      "text/plain": [
       "tensor([[0.4859],\n",
       "        [0.7655],\n",
       "        [0.4277],\n",
       "        [0.6890],\n",
       "        [0.1357]])"
      ]
     },
     "execution_count": 55,
     "metadata": {},
     "output_type": "execute_result"
    }
   ],
   "source": [
    "sig = nn.Sigmoid()(test)\n",
    "sig"
   ]
  },
  {
   "cell_type": "code",
   "execution_count": 57,
   "id": "686283b6",
   "metadata": {},
   "outputs": [
    {
     "data": {
      "text/plain": [
       "tensor(True)"
      ]
     },
     "execution_count": 57,
     "metadata": {},
     "output_type": "execute_result"
    }
   ],
   "source": [
    "# bceloss\n",
    "mun = ((-torch.log(sig)*table)+(-torch.log(1-sig)*(1-table))).mean() # 手写bceloss\n",
    "celoss = nn.BCEWithLogitsLoss()(test, table) # torch api\n",
    "celoss==mun\n",
    "# 注意二分类问题如果使用CEloss的话需要将最后的输出应设为两列，否则经过softmax输出都为1"
   ]
  },
  {
   "cell_type": "markdown",
   "id": "728495db",
   "metadata": {},
   "source": [
    "### 二分类中的另一种情况，输出为2维的BCEloss与CEloss对比"
   ]
  },
  {
   "cell_type": "code",
   "execution_count": 149,
   "id": "1bb82773",
   "metadata": {},
   "outputs": [
    {
     "data": {
      "text/plain": [
       "(tensor([[-0.7511,  0.1949],\n",
       "         [-3.2645,  1.0096],\n",
       "         [ 1.1170, -1.1953],\n",
       "         [ 2.4201, -1.0242],\n",
       "         [-1.0678,  0.4846]]),\n",
       " tensor([[1., 0.],\n",
       "         [1., 0.],\n",
       "         [0., 1.],\n",
       "         [0., 1.],\n",
       "         [1., 0.]]),\n",
       " tensor([[0.],\n",
       "         [0.],\n",
       "         [1.],\n",
       "         [1.],\n",
       "         [0.]]))"
      ]
     },
     "execution_count": 149,
     "metadata": {},
     "output_type": "execute_result"
    }
   ],
   "source": [
    "test_bi = torch.randn((5,2))\n",
    "table_bi = torch.zeros_like(test_bi)\n",
    "table_bi[[0,1,2,3,4],table.long().view(-1,)] = 1\n",
    "test_bi, table_bi, table\n",
    "# table_bi和table分别对应bceloss与celoss的标签"
   ]
  },
  {
   "cell_type": "code",
   "execution_count": 150,
   "id": "8646aabb",
   "metadata": {},
   "outputs": [
    {
     "data": {
      "text/plain": [
       "(tensor(1.5579), tensor(1.5579), tensor(2.6378))"
      ]
     },
     "execution_count": 150,
     "metadata": {},
     "output_type": "execute_result"
    }
   ],
   "source": [
    "# 2输出bceloss\n",
    "sig = nn.Sigmoid()(test_bi)\n",
    "bceloss = -(torch.log(sig)*table_bi+torch.log(1-sig)*(1-table_bi)).mean()\n",
    "bce2 = nn.BCEWithLogitsLoss()(test_bi, table_bi)\n",
    "# 2输出celoss\n",
    "celoss = nn.CrossEntropyLoss()(test_bi, table.view(-1,).long())\n",
    "bceloss, bce2, celoss"
   ]
  },
  {
   "cell_type": "markdown",
   "id": "1eeda4cb",
   "metadata": {},
   "source": [
    "可以看到这种情况下BCEloss与CEloss的结果依然不同，体现了celoss经过softmax的可加性（相加为一）"
   ]
  },
  {
   "cell_type": "markdown",
   "id": "9a0a39f2",
   "metadata": {},
   "source": [
    "### 多分类示例：\n",
    "生成包含五个样本三个类别的示例，分别用BCEloss和CEloss查看其区别"
   ]
  },
  {
   "cell_type": "code",
   "execution_count": 114,
   "id": "0bea4fb2",
   "metadata": {},
   "outputs": [
    {
     "data": {
      "text/plain": [
       "(tensor([[ 1.3216, -1.2250, -1.8526],\n",
       "         [ 0.3159, -0.4316, -1.5087],\n",
       "         [ 0.4384, -1.7315, -1.9941],\n",
       "         [-0.8894,  0.9585, -1.1600],\n",
       "         [ 0.2089, -0.9754,  0.0882]]),\n",
       " tensor([1, 2, 2, 2, 1]),\n",
       " tensor([[0., 1., 0.],\n",
       "         [0., 0., 1.],\n",
       "         [0., 0., 1.],\n",
       "         [0., 0., 1.],\n",
       "         [0., 1., 0.]]))"
      ]
     },
     "execution_count": 114,
     "metadata": {},
     "output_type": "execute_result"
    }
   ],
   "source": [
    "# 随机生成标准正态分布的的矩阵，五个样本三种分类\n",
    "test_multi = torch.randn((5,3))\n",
    "sub_table = torch.randint(0,3,(5,))\n",
    "table_multi = torch.zeros_like(test_multi)\n",
    "# 将对应的下标转换成正例\n",
    "table_multi[[0,1,2,3,4],sub_table]=1\n",
    "test_multi, sub_table, table_multi"
   ]
  },
  {
   "cell_type": "code",
   "execution_count": 115,
   "id": "d39d94b2",
   "metadata": {},
   "outputs": [
    {
     "name": "stdout",
     "output_type": "stream",
     "text": [
      "手写BCEloss与api计算方式相同\n",
      "1.0250824689865112 1.0250824689865112\n",
      "BCEloss不能使用一个维度的标签应扩展到类别维度，报错信息为：\n",
      "Target size (torch.Size([5])) must be the same as input size (torch.Size([5, 3]))\n"
     ]
    }
   ],
   "source": [
    "# 手写BCEloss用于对照\n",
    "sig = nn.Sigmoid()(test_multi)\n",
    "manual = ((-torch.log(sig)*table_multi)+(-torch.log(1-sig)*(1-table_multi))).mean() # 手写celoss\n",
    "celoss = nn.BCEWithLogitsLoss()(test_multi, table_multi) # torch api\n",
    "print(\"手写BCEloss与api计算方式相同\") if '%.06f'%celoss.item()=='%.06f'%manual.item() else print(\"手写BCEloss与api计算方式不同\")\n",
    "print(celoss.item(),manual.item())\n",
    "try:\n",
    "    nn.BCEWithLogitsLoss()(test_multi, sub_table)\n",
    "except Exception as e:\n",
    "    print(\"BCEloss不能使用一个维度的标签应扩展到类别维度，报错信息为：\")\n",
    "    print(e)"
   ]
  },
  {
   "cell_type": "markdown",
   "id": "fee4a51a",
   "metadata": {},
   "source": [
    "可以看到手写同api输出结果相同，中间过程由于精度的差异略有不同,下面测试多分类问题中BCEloss与CEloss的区别"
   ]
  },
  {
   "cell_type": "code",
   "execution_count": 117,
   "id": "6a9b22d8",
   "metadata": {},
   "outputs": [
    {
     "name": "stdout",
     "output_type": "stream",
     "text": [
      "手写CEloss与api计算方式相同\n",
      "tensor(2.3851) tensor(2.3851)\n"
     ]
    }
   ],
   "source": [
    "soft_mutil = nn.Softmax(dim=1)(test_multi)\n",
    "true_table = soft_mutil[[0,1,2,3,4],sub_table]\n",
    "celoss_manual = -torch.log(true_table).mean()\n",
    "celoss_api = nn.CrossEntropyLoss()(test_multi, sub_table)\n",
    "print(\"手写CEloss与api计算方式相同\") if celoss_manual==celoss_api else print(\"手写CEloss与api计算方式不同\")\n",
    "print(celoss_manual, celoss_api)"
   ]
  },
  {
   "cell_type": "markdown",
   "id": "583383d9",
   "metadata": {},
   "source": [
    "经过上面的实验，可以看到相同的标记和样本情况下，BCEloss与CEloss是完全不同的，BCEloss在多分类非多标签任务中通过改变标签的表示方式也是可以使用的，另外需要注意的是经过上述实验在制作数据集的时候，多分类问题BCEloss的标签是n维的（与特征维度相同的下标编码），而CEloss是一维的。二分类问题中BCEloss最后经过linear是一维的，标签是一维的，而CEloss经过linear层输出是二维的，标签是一维的。"
   ]
  }
 ],
 "metadata": {
  "kernelspec": {
   "display_name": "Python [conda env:torch-gpu]",
   "language": "python",
   "name": "conda-env-torch-gpu-py"
  },
  "language_info": {
   "codemirror_mode": {
    "name": "ipython",
    "version": 3
   },
   "file_extension": ".py",
   "mimetype": "text/x-python",
   "name": "python",
   "nbconvert_exporter": "python",
   "pygments_lexer": "ipython3",
   "version": "3.7.7"
  }
 },
 "nbformat": 4,
 "nbformat_minor": 5
}
